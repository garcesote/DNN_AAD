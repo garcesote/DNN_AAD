{
 "cells": [
  {
   "cell_type": "code",
   "execution_count": 1,
   "metadata": {},
   "outputs": [],
   "source": [
    "from pipeline.training_functions import train_dnn, train_ridge\n",
    "from pipeline.eval_functions import eval_dnn"
   ]
  },
  {
   "cell_type": "code",
   "execution_count": 2,
   "metadata": {},
   "outputs": [],
   "source": [
    "# REPRODUCING TRAINING DNN RESULTS\n",
    "models = ['CNN', 'FCNN']\n",
    "datasets = ['hugo','fulsang']"
   ]
  },
  {
   "cell_type": "code",
   "execution_count": 3,
   "metadata": {},
   "outputs": [],
   "source": [
    "# Path where the data is located\n",
    "hugo_path = \"C:/Users/jaulab/Desktop/AAD/Data/Hugo_2022/hugo_preproc_data\"\n",
    "fulsang_path = 'C:/Users/jaulab/Desktop/AAD/Data/Fulsang_2017/DATA_preproc'\n",
    "\n",
    "# Select the date for saving models and metrics\n",
    "date = '16_07'\n",
    "\n",
    "mdl_save_path = 'Results/models'\n",
    "metrics_save_path = 'Results/train_metrics'\n",
    "results_save_path = 'Results/eval_metrics/'"
   ]
  },
  {
   "cell_type": "code",
   "execution_count": 4,
   "metadata": {},
   "outputs": [
    {
     "name": "stdout",
     "output_type": "stream",
     "text": [
      "Training CNN with hugo data on S1...\n",
      "Epoch: 0 | train accuracy: 0.029586363583803177 | val accuracy: 0.05085350573062897\n",
      "Training CNN with hugo data on S2...\n",
      "Epoch: 0 | train accuracy: -0.029415002092719078 | val accuracy: 0.029810350388288498\n",
      "Training CNN with hugo data on S3...\n",
      "Epoch: 0 | train accuracy: 0.018127355724573135 | val accuracy: 0.03758850693702698\n",
      "Training CNN with hugo data on S4...\n",
      "Epoch: 0 | train accuracy: 0.04652126878499985 | val accuracy: 0.09856103360652924\n",
      "Training CNN with hugo data on S5...\n",
      "Epoch: 0 | train accuracy: 0.03757147863507271 | val accuracy: 0.09227793663740158\n",
      "Training CNN with hugo data on S6...\n",
      "Epoch: 0 | train accuracy: 0.04878845810890198 | val accuracy: 0.09339258819818497\n",
      "Training CNN with hugo data on S7...\n",
      "Epoch: 0 | train accuracy: 0.019890274852514267 | val accuracy: 0.05318118631839752\n",
      "Training CNN with hugo data on S8...\n",
      "Epoch: 0 | train accuracy: 0.06484845280647278 | val accuracy: 0.1405671238899231\n",
      "Training CNN with hugo data on S9...\n",
      "Epoch: 0 | train accuracy: 0.012154540047049522 | val accuracy: 0.05661621689796448\n",
      "Training CNN with hugo data on S10...\n",
      "Epoch: 0 | train accuracy: 0.07129599153995514 | val accuracy: 0.17669351398944855\n",
      "hola\n",
      "Training CNN with hugo data on S11...\n",
      "Epoch: 0 | train accuracy: 0.028038468211889267 | val accuracy: 0.08832581341266632\n",
      "Training CNN with hugo data on S12...\n",
      "Epoch: 0 | train accuracy: 0.042951926589012146 | val accuracy: 0.10126194357872009\n",
      "Training CNN with hugo data on S13...\n",
      "Epoch: 0 | train accuracy: 0.056402839720249176 | val accuracy: 0.1726517528295517\n",
      "Training CNN with fulsang data on S1...\n",
      "Epoch: 0 | train accuracy: 0.0008224504999816418 | val accuracy: 0.030192188918590546\n",
      "Training CNN with fulsang data on S2...\n",
      "Epoch: 0 | train accuracy: 0.0379796102643013 | val accuracy: 0.040258996188640594\n",
      "Training CNN with fulsang data on S3...\n",
      "Epoch: 0 | train accuracy: 0.05376282334327698 | val accuracy: 0.12139665335416794\n",
      "Training CNN with fulsang data on S4...\n",
      "Epoch: 0 | train accuracy: 0.0683361142873764 | val accuracy: 0.059815943241119385\n",
      "Training CNN with fulsang data on S5...\n",
      "Epoch: 0 | train accuracy: 0.003929393365979195 | val accuracy: -0.013987638987600803\n",
      "Training CNN with fulsang data on S6...\n",
      "Epoch: 0 | train accuracy: 0.04204539209604263 | val accuracy: 0.07349510490894318\n",
      "Training CNN with fulsang data on S7...\n",
      "Epoch: 0 | train accuracy: 0.08678828179836273 | val accuracy: 0.214863121509552\n",
      "Training CNN with fulsang data on S8...\n",
      "Epoch: 0 | train accuracy: 0.01608044095337391 | val accuracy: 0.07571296393871307\n",
      "Training CNN with fulsang data on S9...\n",
      "Epoch: 0 | train accuracy: 0.025939855724573135 | val accuracy: 0.043403904885053635\n",
      "Training CNN with fulsang data on S10...\n",
      "Epoch: 0 | train accuracy: 0.016149329021573067 | val accuracy: 0.05983654037117958\n",
      "hola\n",
      "Training CNN with fulsang data on S11...\n",
      "Epoch: 0 | train accuracy: 0.009129765443503857 | val accuracy: -0.028226954862475395\n",
      "Training CNN with fulsang data on S12...\n",
      "Epoch: 0 | train accuracy: 0.003718703519552946 | val accuracy: -0.016059808433055878\n",
      "Training CNN with fulsang data on S13...\n",
      "Epoch: 0 | train accuracy: 0.005739975720643997 | val accuracy: 0.09587640315294266\n",
      "Training CNN with fulsang data on S14...\n",
      "Epoch: 0 | train accuracy: 0.060585882514715195 | val accuracy: 0.09243915230035782\n",
      "Training CNN with fulsang data on S15...\n",
      "Epoch: 0 | train accuracy: 0.06657642126083374 | val accuracy: 0.1346745640039444\n",
      "Training CNN with fulsang data on S16...\n",
      "Epoch: 0 | train accuracy: 0.01427695993334055 | val accuracy: 0.05949759855866432\n",
      "Training CNN with fulsang data on S17...\n",
      "Epoch: 0 | train accuracy: 0.04542358219623566 | val accuracy: 0.020041031762957573\n",
      "Training CNN with fulsang data on S18...\n",
      "Epoch: 0 | train accuracy: 0.041873231530189514 | val accuracy: 0.10644403100013733\n",
      "Training FCNN with hugo data on S1...\n",
      "Epoch: 0 | train accuracy: 0.0938960611820221 | val accuracy: 0.10804498195648193\n",
      "Training FCNN with hugo data on S2...\n",
      "Epoch: 0 | train accuracy: 0.053544674068689346 | val accuracy: 0.09305890649557114\n",
      "Training FCNN with hugo data on S3...\n",
      "Epoch: 0 | train accuracy: 0.0548718087375164 | val accuracy: 0.08509818464517593\n",
      "Training FCNN with hugo data on S4...\n",
      "Epoch: 0 | train accuracy: 0.0942041352391243 | val accuracy: 0.14060397446155548\n",
      "Training FCNN with hugo data on S5...\n",
      "Epoch: 0 | train accuracy: 0.07693289965391159 | val accuracy: 0.1382051706314087\n",
      "Training FCNN with hugo data on S6...\n",
      "Epoch: 0 | train accuracy: 0.08135257661342621 | val accuracy: 0.1431644856929779\n",
      "Training FCNN with hugo data on S7...\n",
      "Epoch: 0 | train accuracy: 0.07719573378562927 | val accuracy: 0.0704568400979042\n",
      "Training FCNN with hugo data on S8...\n",
      "Epoch: 0 | train accuracy: 0.13493771851062775 | val accuracy: 0.17952623963356018\n",
      "Training FCNN with hugo data on S9...\n",
      "Epoch: 0 | train accuracy: 0.052704934030771255 | val accuracy: 0.12263645231723785\n",
      "Training FCNN with hugo data on S10...\n",
      "Epoch: 0 | train accuracy: 0.1383107304573059 | val accuracy: 0.21919891238212585\n",
      "hola\n",
      "Training FCNN with hugo data on S11...\n",
      "Epoch: 0 | train accuracy: 0.05185714364051819 | val accuracy: 0.13399414718151093\n",
      "Training FCNN with hugo data on S12...\n",
      "Epoch: 0 | train accuracy: 0.06058268994092941 | val accuracy: 0.13376648724079132\n",
      "Training FCNN with hugo data on S13...\n",
      "Epoch: 0 | train accuracy: 0.10402815788984299 | val accuracy: 0.19174736738204956\n",
      "Training FCNN with fulsang data on S1...\n",
      "Epoch: 0 | train accuracy: 0.05286815017461777 | val accuracy: 0.12240619957447052\n",
      "Training FCNN with fulsang data on S2...\n",
      "Epoch: 0 | train accuracy: 0.06530898809432983 | val accuracy: 0.12641730904579163\n",
      "Training FCNN with fulsang data on S3...\n",
      "Epoch: 0 | train accuracy: 0.07245706021785736 | val accuracy: 0.17670924961566925\n",
      "Training FCNN with fulsang data on S4...\n",
      "Epoch: 0 | train accuracy: 0.11058297753334045 | val accuracy: 0.10218185186386108\n",
      "Training FCNN with fulsang data on S5...\n",
      "Epoch: 0 | train accuracy: 0.0261489599943161 | val accuracy: 0.08547668159008026\n",
      "Training FCNN with fulsang data on S6...\n",
      "Epoch: 0 | train accuracy: 0.05072857439517975 | val accuracy: 0.09115155041217804\n",
      "Training FCNN with fulsang data on S7...\n",
      "Epoch: 0 | train accuracy: 0.11813993752002716 | val accuracy: 0.21221128106117249\n",
      "Training FCNN with fulsang data on S8...\n",
      "Epoch: 0 | train accuracy: 0.05554705485701561 | val accuracy: 0.145994633436203\n",
      "Training FCNN with fulsang data on S9...\n",
      "Epoch: 0 | train accuracy: 0.044984396547079086 | val accuracy: 0.04495212435722351\n",
      "Training FCNN with fulsang data on S10...\n",
      "Epoch: 0 | train accuracy: 0.049651049077510834 | val accuracy: 0.10768768191337585\n",
      "hola\n",
      "Training FCNN with fulsang data on S11...\n",
      "Epoch: 0 | train accuracy: -0.000904972548596561 | val accuracy: -0.03845241665840149\n",
      "Training FCNN with fulsang data on S12...\n",
      "Epoch: 0 | train accuracy: 0.017250828444957733 | val accuracy: 0.01601298712193966\n",
      "Training FCNN with fulsang data on S13...\n",
      "Epoch: 0 | train accuracy: 0.05404317006468773 | val accuracy: 0.1228756457567215\n",
      "Training FCNN with fulsang data on S14...\n",
      "Epoch: 0 | train accuracy: 0.0418170765042305 | val accuracy: 0.15057158470153809\n",
      "Training FCNN with fulsang data on S15...\n",
      "Epoch: 0 | train accuracy: 0.07012680172920227 | val accuracy: 0.17015577852725983\n",
      "Training FCNN with fulsang data on S16...\n",
      "Epoch: 0 | train accuracy: 0.054897505789995193 | val accuracy: 0.10796426981687546\n",
      "Training FCNN with fulsang data on S17...\n",
      "Epoch: 0 | train accuracy: 0.059170741587877274 | val accuracy: 0.07325252145528793\n",
      "Training FCNN with fulsang data on S18...\n",
      "Epoch: 0 | train accuracy: 0.05477476865053177 | val accuracy: 0.16445988416671753\n"
     ]
    }
   ],
   "source": [
    "# TRAIN DNN\n",
    "for model in models:\n",
    "    for dataset in datasets:\n",
    "        data_path = hugo_path if dataset == 'hugo' else fulsang_path\n",
    "        train_dnn(model=model, dataset=dataset, data_path=data_path, date=date, mdl_save_path=mdl_save_path, metrics_save_path=metrics_save_path, max_epoch=1)"
   ]
  },
  {
   "cell_type": "code",
   "execution_count": 4,
   "metadata": {},
   "outputs": [
    {
     "name": "stdout",
     "output_type": "stream",
     "text": [
      "Evaluating CNN on hugo dataset\n",
      "Subject S1 | acc_mean 0.04475207214473166\n",
      "Subject S2 | acc_mean 0.017738439432898725\n",
      "Subject S3 | acc_mean 0.057388990429108555\n",
      "Subject S4 | acc_mean 0.10493307615972544\n",
      "Subject S5 | acc_mean 0.04046046132545756\n",
      "Subject S6 | acc_mean 0.04099641384011087\n",
      "Subject S7 | acc_mean 0.031080970557795722\n",
      "Subject S8 | acc_mean 0.1120630947969728\n",
      "Subject S9 | acc_mean 0.055138406112474045\n",
      "Subject S10 | acc_mean 0.1323630964823696\n",
      "Subject S11 | acc_mean 0.0407819753335024\n",
      "Subject S12 | acc_mean 0.07710584958619185\n",
      "Subject S13 | acc_mean 0.13231042956209016\n",
      "Evaluating CNN on fulsang dataset\n",
      "Subject S1 | acc_mean 0.028895419172840775\n",
      "Subject S2 | acc_mean 0.058322025338384265\n",
      "Subject S3 | acc_mean 0.07521656219432771\n",
      "Subject S4 | acc_mean 0.0631700220253606\n",
      "Subject S5 | acc_mean 0.021587724779863038\n",
      "Subject S6 | acc_mean 0.0009099480027998652\n",
      "Subject S7 | acc_mean 0.16986283476308017\n",
      "Subject S8 | acc_mean 0.051651157389528635\n",
      "Subject S9 | acc_mean -0.006084574703663748\n",
      "Subject S10 | acc_mean -0.0021350970655475976\n",
      "Subject S11 | acc_mean 0.010451807349909359\n",
      "Subject S12 | acc_mean 0.0394546780780729\n",
      "Subject S13 | acc_mean 0.04353104772417282\n",
      "Subject S14 | acc_mean 0.0724063541920259\n",
      "Subject S15 | acc_mean 0.11279856881901651\n",
      "Subject S16 | acc_mean 0.06435049366132262\n",
      "Subject S17 | acc_mean 0.004099009549463517\n",
      "Subject S18 | acc_mean 0.05431082842324031\n",
      "Evaluating FCNN on hugo dataset\n",
      "Subject S1 | acc_mean 0.09908538070523656\n",
      "Subject S2 | acc_mean 0.05953936718165953\n",
      "Subject S3 | acc_mean 0.08159975505575699\n",
      "Subject S4 | acc_mean 0.1311316871194502\n",
      "Subject S5 | acc_mean 0.07852494001168092\n",
      "Subject S6 | acc_mean 0.09286252739917288\n",
      "Subject S7 | acc_mean 0.04510382718602331\n",
      "Subject S8 | acc_mean 0.1687041101054905\n",
      "Subject S9 | acc_mean 0.08336509155376098\n",
      "Subject S10 | acc_mean 0.20118893687708916\n",
      "Subject S11 | acc_mean 0.07990408637957391\n",
      "Subject S12 | acc_mean 0.09777392297960674\n",
      "Subject S13 | acc_mean 0.1848925125474731\n",
      "Evaluating FCNN on fulsang dataset\n",
      "Subject S1 | acc_mean 0.1028789002348276\n",
      "Subject S2 | acc_mean 0.05266375258861444\n",
      "Subject S3 | acc_mean 0.10130627219149346\n",
      "Subject S4 | acc_mean 0.08116901883164473\n",
      "Subject S5 | acc_mean 0.06592436462415208\n",
      "Subject S6 | acc_mean 0.016686994734357086\n",
      "Subject S7 | acc_mean 0.17972868968828948\n",
      "Subject S8 | acc_mean 0.07581247793859802\n",
      "Subject S9 | acc_mean 0.06226920790868462\n",
      "Subject S10 | acc_mean 0.055721001122378766\n",
      "Subject S11 | acc_mean 3.699122589750914e-05\n",
      "Subject S12 | acc_mean 0.029948678503387782\n",
      "Subject S13 | acc_mean 0.09051861235866454\n",
      "Subject S14 | acc_mean 0.08480515669799615\n",
      "Subject S15 | acc_mean 0.12704830093230157\n",
      "Subject S16 | acc_mean 0.09895798392381039\n",
      "Subject S17 | acc_mean 0.051011930991990084\n",
      "Subject S18 | acc_mean 0.06009174613319601\n"
     ]
    }
   ],
   "source": [
    "# EVALUATE FUNCTION\n",
    "for model in models:\n",
    "    for dataset in datasets:\n",
    "        data_path = hugo_path if dataset == 'hugo' else fulsang_path\n",
    "        eval_dnn(model, dataset, data_path, results_save_path, mdl_save_path, date)"
   ]
  },
  {
   "cell_type": "code",
   "execution_count": 2,
   "metadata": {},
   "outputs": [
    {
     "data": {
      "text/plain": [
       "(torch.Size([61, 145920]),\n",
       " torch.Size([145920]),\n",
       " torch.Size([61, 1536]),\n",
       " torch.Size([1536]),\n",
       " 96,\n",
       " 384,\n",
       " 384)"
      ]
     },
     "execution_count": 2,
     "metadata": {},
     "output_type": "execute_result"
    }
   ],
   "source": [
    "from utils.datasets import JaulabDatasetWindows\n",
    "jaulab_path = 'C:/users/jaulab/Desktop/AAD/Data/Jaulab_2024/PreprocData_ICA'\n",
    "\n",
    "dataset = JaulabDatasetWindows(jaulab_path, 'S13', window = 6)\n",
    "dataset.eeg.shape, dataset.stima.shape, dataset.val_eeg.shape, dataset.val_stima.shape, dataset.trials, dataset.windows, dataset.window_samples"
   ]
  },
  {
   "cell_type": "code",
   "execution_count": 1,
   "metadata": {},
   "outputs": [
    {
     "data": {
      "text/plain": [
       "(torch.Size([64, 188800]),\n",
       " torch.Size([188800]),\n",
       " torch.Size([64, 3200]),\n",
       " torch.Size([3200]),\n",
       " 60,\n",
       " 300,\n",
       " 640)"
      ]
     },
     "execution_count": 1,
     "metadata": {},
     "output_type": "execute_result"
    }
   ],
   "source": [
    "from utils.datasets import FulsangDatasetWindows\n",
    "fulsang_path = 'C:/Users/jaulab/Desktop/AAD/Data/Fulsang_2017/DATA_preproc'\n",
    "\n",
    "dataset = FulsangDatasetWindows(fulsang_path, 'S13', window = 10)\n",
    "dataset.eeg.shape, dataset.stima.shape, dataset.val_eeg.shape, dataset.val_stima.shape, dataset.trials, dataset.windows, dataset.window_samples"
   ]
  },
  {
   "cell_type": "code",
   "execution_count": 2,
   "metadata": {},
   "outputs": [
    {
     "data": {
      "text/plain": [
       "5"
      ]
     },
     "execution_count": 2,
     "metadata": {},
     "output_type": "execute_result"
    }
   ],
   "source": [
    "dataset.n_window"
   ]
  },
  {
   "cell_type": "code",
   "execution_count": 11,
   "metadata": {},
   "outputs": [],
   "source": [
    "import torch"
   ]
  },
  {
   "cell_type": "code",
   "execution_count": 13,
   "metadata": {},
   "outputs": [],
   "source": [
    "cv_stima  = dataset.cv_stima[0]\n",
    "\n",
    "for cv_stima in dataset.cv_stima:\n",
    "    for stima in dataset.stima:\n",
    "        if torch.equal(cv_stima, stima):\n",
    "            print('Se ha encontrado el tensor')"
   ]
  },
  {
   "cell_type": "code",
   "execution_count": 4,
   "metadata": {},
   "outputs": [
    {
     "data": {
      "text/plain": [
       "1664"
      ]
     },
     "execution_count": 4,
     "metadata": {},
     "output_type": "execute_result"
    }
   ],
   "source": [
    "window = 26\n",
    "26*64"
   ]
  },
  {
   "cell_type": "code",
   "execution_count": 6,
   "metadata": {},
   "outputs": [
    {
     "data": {
      "text/plain": [
       "1696"
      ]
     },
     "execution_count": 6,
     "metadata": {},
     "output_type": "execute_result"
    }
   ],
   "source": [
    "dataset.samples"
   ]
  }
 ],
 "metadata": {
  "kernelspec": {
   "display_name": "SSS_Enviroment",
   "language": "python",
   "name": "python3"
  },
  "language_info": {
   "codemirror_mode": {
    "name": "ipython",
    "version": 3
   },
   "file_extension": ".py",
   "mimetype": "text/x-python",
   "name": "python",
   "nbconvert_exporter": "python",
   "pygments_lexer": "ipython3",
   "version": "3.10.11"
  }
 },
 "nbformat": 4,
 "nbformat_minor": 2
}
