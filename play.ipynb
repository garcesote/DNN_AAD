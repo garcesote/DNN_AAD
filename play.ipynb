{
 "cells": [
  {
   "cell_type": "code",
   "execution_count": 4,
   "metadata": {},
   "outputs": [],
   "source": [
    "import torch\n",
    "from utils.dnn import FCNN, CNN"
   ]
  },
  {
   "cell_type": "code",
   "execution_count": 5,
   "metadata": {},
   "outputs": [
    {
     "name": "stdout",
     "output_type": "stream",
     "text": [
      "CNN(\n",
      "  (model): Sequential(\n",
      "    (0): Conv2d(1, 8, kernel_size=(3, 1), stride=(1, 1), padding=(1, 0))\n",
      "    (1): BatchNorm2d(8, eps=1e-05, momentum=0.1, affine=True, track_running_stats=True)\n",
      "    (2): Conv2d(8, 64, kernel_size=(1, 64), stride=(1, 1), groups=8)\n",
      "    (3): BatchNorm2d(64, eps=1e-05, momentum=0.1, affine=True, track_running_stats=True)\n",
      "    (4): ELU(alpha=1.0)\n",
      "    (5): AvgPool2d(kernel_size=(2, 1), stride=(2, 1), padding=0)\n",
      "    (6): Dropout2d(p=0.2, inplace=False)\n",
      "    (7): Conv2d(64, 64, kernel_size=(3, 3), stride=(1, 1), padding=(1, 1), groups=64)\n",
      "    (8): Conv2d(64, 64, kernel_size=(1, 1), stride=(1, 1))\n",
      "    (9): BatchNorm2d(64, eps=1e-05, momentum=0.1, affine=True, track_running_stats=True)\n",
      "    (10): ELU(alpha=1.0)\n",
      "    (11): AvgPool2d(kernel_size=(4, 1), stride=(4, 1), padding=0)\n",
      "    (12): Dropout2d(p=0.2, inplace=False)\n",
      "    (13): Flatten(start_dim=1, end_dim=-1)\n",
      "    (14): Linear(in_features=400, out_features=1, bias=True)\n",
      "  )\n",
      ")\n"
     ]
    }
   ],
   "source": [
    "model = CNN()\n",
    "print(model)"
   ]
  },
  {
   "cell_type": "code",
   "execution_count": 6,
   "metadata": {},
   "outputs": [
    {
     "data": {
      "text/plain": [
       "9665"
      ]
     },
     "execution_count": 6,
     "metadata": {},
     "output_type": "execute_result"
    }
   ],
   "source": [
    "params = sum(p.numel() for p in model.parameters())\n",
    "params"
   ]
  }
 ],
 "metadata": {
  "kernelspec": {
   "display_name": "SSS_Enviroment",
   "language": "python",
   "name": "python3"
  },
  "language_info": {
   "codemirror_mode": {
    "name": "ipython",
    "version": 3
   },
   "file_extension": ".py",
   "mimetype": "text/x-python",
   "name": "python",
   "nbconvert_exporter": "python",
   "pygments_lexer": "ipython3",
   "version": "3.10.11"
  }
 },
 "nbformat": 4,
 "nbformat_minor": 2
}
